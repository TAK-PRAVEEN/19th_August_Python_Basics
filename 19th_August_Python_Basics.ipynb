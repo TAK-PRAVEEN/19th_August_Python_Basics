{
 "cells": [
  {
   "cell_type": "markdown",
   "id": "75e9d931-77b5-4b61-9e99-67049bfbb0ef",
   "metadata": {},
   "source": [
    "TOPIC: Python Basics Variable"
   ]
  },
  {
   "cell_type": "markdown",
   "id": "8a4e8391-1d85-4947-b446-9a566f4bf104",
   "metadata": {},
   "source": [
    "1. Declare two variables, `x` and `y`, and assign them integer values. Swap the\n",
    "values of these variables without using any temporary variable."
   ]
  },
  {
   "cell_type": "code",
   "execution_count": 1,
   "id": "3267222c-5158-4fc8-a10b-87052473da14",
   "metadata": {},
   "outputs": [],
   "source": [
    "x = 14\n",
    "y = 45"
   ]
  },
  {
   "cell_type": "code",
   "execution_count": 2,
   "id": "2fb30777-92a4-4e25-a99f-411487de285b",
   "metadata": {},
   "outputs": [],
   "source": [
    "(x,y)=(y,x)"
   ]
  },
  {
   "cell_type": "code",
   "execution_count": 3,
   "id": "34e18940-9654-4bfa-95e1-2e05ec1094dd",
   "metadata": {},
   "outputs": [
    {
     "data": {
      "text/plain": [
       "45"
      ]
     },
     "execution_count": 3,
     "metadata": {},
     "output_type": "execute_result"
    }
   ],
   "source": [
    "x"
   ]
  },
  {
   "cell_type": "markdown",
   "id": "b233d16d-7198-4632-8c21-1f5307bc30c2",
   "metadata": {},
   "source": [
    "y"
   ]
  },
  {
   "cell_type": "markdown",
   "id": "89711a72-56ea-4f76-8c52-bbcae418ead5",
   "metadata": {},
   "source": [
    "2. Create a program that calculates the area of a rectangle. Take the length and\n",
    "width as inputs from the user and store them in variables. Calculate and\n",
    "display the area."
   ]
  },
  {
   "cell_type": "code",
   "execution_count": 5,
   "id": "ee859677-fc88-4932-90c9-7c3ebf0a9a7e",
   "metadata": {},
   "outputs": [
    {
     "name": "stdin",
     "output_type": "stream",
     "text": [
      "Enter length:  12\n",
      "Enter width:  13\n"
     ]
    }
   ],
   "source": [
    "a = int(input(\"Enter length: \")) #a variable inputs length as int\n",
    "b = int(input(\"Enter width: \")) #b variable inputs width as int"
   ]
  },
  {
   "cell_type": "code",
   "execution_count": 7,
   "id": "c8000633-7d6d-4607-b367-0a851f139771",
   "metadata": {},
   "outputs": [
    {
     "data": {
      "text/plain": [
       "156"
      ]
     },
     "execution_count": 7,
     "metadata": {},
     "output_type": "execute_result"
    }
   ],
   "source": [
    "a*b #this calculate area of rectangle"
   ]
  },
  {
   "cell_type": "markdown",
   "id": "ad8532d1-6a5b-4422-b518-60ad3b2d9c36",
   "metadata": {},
   "source": [
    "3. Write a Python program that converts temperatures from Celsius to\n",
    "Fahrenheit. Take the temperature in Celsius as input, store it in a variable,\n",
    "convert it to Fahrenheit, and display the result."
   ]
  },
  {
   "cell_type": "code",
   "execution_count": 15,
   "id": "5179f1db-4968-40eb-a41c-3451a7fd308e",
   "metadata": {},
   "outputs": [
    {
     "name": "stdin",
     "output_type": "stream",
     "text": [
      "Enter temp. in Celcius:  12\n"
     ]
    }
   ],
   "source": [
    "c = int(input(\"Enter temp. in Celcius: \"))"
   ]
  },
  {
   "cell_type": "code",
   "execution_count": 16,
   "id": "3a6f5a2c-a06c-4ec4-97cb-204b5c8abe42",
   "metadata": {},
   "outputs": [],
   "source": [
    "f = (c*1.8)+32"
   ]
  },
  {
   "cell_type": "code",
   "execution_count": 17,
   "id": "13faa09d-af28-4e11-8308-2ab7c57ea434",
   "metadata": {},
   "outputs": [
    {
     "data": {
      "text/plain": [
       "53.6"
      ]
     },
     "execution_count": 17,
     "metadata": {},
     "output_type": "execute_result"
    }
   ],
   "source": [
    "f"
   ]
  },
  {
   "cell_type": "markdown",
   "id": "879f4fa2-ea54-4253-a95c-1786e4303d0c",
   "metadata": {},
   "source": [
    "TOPIC: String Based Questions"
   ]
  },
  {
   "cell_type": "markdown",
   "id": "952b5609-11e6-4712-927a-d0df9571ef64",
   "metadata": {},
   "source": [
    "1. Write a Python program that takes a string as input and prints the length of\n",
    "the string."
   ]
  },
  {
   "cell_type": "code",
   "execution_count": 18,
   "id": "ceb2c0f1-273b-4924-8d43-4d5314379ff3",
   "metadata": {},
   "outputs": [
    {
     "name": "stdin",
     "output_type": "stream",
     "text": [
      "Enter string:  Prakash\n"
     ]
    }
   ],
   "source": [
    "s = input(\"Enter string: \")"
   ]
  },
  {
   "cell_type": "code",
   "execution_count": 19,
   "id": "7395d4cf-349c-4437-bb9c-5e2e6c601db7",
   "metadata": {},
   "outputs": [
    {
     "data": {
      "text/plain": [
       "7"
      ]
     },
     "execution_count": 19,
     "metadata": {},
     "output_type": "execute_result"
    }
   ],
   "source": [
    "len(s)"
   ]
  },
  {
   "cell_type": "markdown",
   "id": "b0c32367-71c2-47db-9a85-64fb225be9d1",
   "metadata": {},
   "source": [
    "2. Create a program that takes a sentence from the user and counts the number\n",
    "of vowels (a, e, i, o, u) in the string."
   ]
  },
  {
   "cell_type": "code",
   "execution_count": 20,
   "id": "3b21f054-c939-4f70-af67-f9278d03f00c",
   "metadata": {},
   "outputs": [
    {
     "name": "stdin",
     "output_type": "stream",
     "text": [
      "Enter sentence:  This is praveen\n"
     ]
    }
   ],
   "source": [
    "sen = input(\"Enter sentence: \")"
   ]
  },
  {
   "cell_type": "markdown",
   "id": "da85bbfe-e361-45ff-93f5-478e0070b61d",
   "metadata": {},
   "source": [
    "3. Given a string, reverse the order of characters using string slicing and print\n",
    "the reversed string.\n",
    "    "
   ]
  },
  {
   "cell_type": "code",
   "execution_count": 21,
   "id": "1f7289bb-ce3a-4de8-9fa7-6d44fcf7d314",
   "metadata": {},
   "outputs": [
    {
     "data": {
      "text/plain": [
       "'dlroW olleH'"
      ]
     },
     "execution_count": 21,
     "metadata": {},
     "output_type": "execute_result"
    }
   ],
   "source": [
    "s1 = \"Hello World\"\n",
    "s1[::-1]"
   ]
  },
  {
   "cell_type": "markdown",
   "id": "a5e75024-7fb8-4bf7-b4aa-f54896ad97bb",
   "metadata": {},
   "source": [
    "4. Write a program that takes a string as input and checks if it is a palindrome\n",
    "(reads the same forwards and backwards)."
   ]
  },
  {
   "cell_type": "code",
   "execution_count": 27,
   "id": "2800bf23-1ff5-4f0f-a9e5-1bc994ec470c",
   "metadata": {},
   "outputs": [
    {
     "name": "stdin",
     "output_type": "stream",
     "text": [
      "Enter string:  civic\n"
     ]
    }
   ],
   "source": [
    "str2 = input(\"Enter string: \")"
   ]
  },
  {
   "cell_type": "code",
   "execution_count": 33,
   "id": "0b413f06-3d72-477f-9d63-839f1835aca0",
   "metadata": {},
   "outputs": [
    {
     "name": "stdout",
     "output_type": "stream",
     "text": [
      "True\n"
     ]
    }
   ],
   "source": [
    "if str2 == str2[::-1]:\n",
    "    print(\"True\")\n",
    "else: \n",
    "    print(\"False\")"
   ]
  },
  {
   "cell_type": "markdown",
   "id": "ed144bd2-e85a-4ae5-9682-c62884a87046",
   "metadata": {},
   "source": [
    "5. Create a program that takes a string as input and removes all the spaces from\n",
    "it. Print the modified string without spaces."
   ]
  },
  {
   "cell_type": "code",
   "execution_count": null,
   "id": "34526be9-d61c-46e8-a81c-e2031ea787e4",
   "metadata": {},
   "outputs": [],
   "source": []
  }
 ],
 "metadata": {
  "kernelspec": {
   "display_name": "Python 3 (ipykernel)",
   "language": "python",
   "name": "python3"
  },
  "language_info": {
   "codemirror_mode": {
    "name": "ipython",
    "version": 3
   },
   "file_extension": ".py",
   "mimetype": "text/x-python",
   "name": "python",
   "nbconvert_exporter": "python",
   "pygments_lexer": "ipython3",
   "version": "3.10.8"
  }
 },
 "nbformat": 4,
 "nbformat_minor": 5
}
